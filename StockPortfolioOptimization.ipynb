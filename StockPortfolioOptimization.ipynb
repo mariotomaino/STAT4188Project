{
 "cells": [
  {
   "cell_type": "code",
   "execution_count": 120,
   "metadata": {},
   "outputs": [],
   "source": [
    "%%capture\n",
    "!pip install -q yfinance numpy pandas matplotlib scikit-learn PyPortfolioOpt scipy seaborn boto3 openai"
   ]
  },
  {
   "cell_type": "markdown",
   "metadata": {},
   "source": [
    "## Data Collection"
   ]
  },
  {
   "cell_type": "code",
   "execution_count": 123,
   "metadata": {},
   "outputs": [],
   "source": [
    "# yf.download downloads stock price data for each ticker\n",
    "# Adj close pulls adjusted closing prices, accounting for splits and dividends for the most accurate price\n",
    "# pct_change() calculates the percentage change between each row in the dataframe (represents daily stock returns as percentage) \n",
    "\n",
    "# import yfinance as yf\n",
    "# import pandas as pd\n",
    "\n",
    "# pd.set_option('display.max_rows', 50)\n",
    "\n",
    "# tickers = ['AAPL', 'JNJ', 'XOM', 'PG', 'JPM']\n",
    "# start_date = '2024-10-01'\n",
    "# end_date = '2024-11-01'\n",
    "\n",
    "# data = yf.download(tickers, start=start_date, end=end_date)['Adj Close']\n",
    "\n",
    "# october_returns = data.pct_change().dropna()\n",
    "\n",
    "# october_returns"
   ]
  },
  {
   "cell_type": "markdown",
   "metadata": {},
   "source": [
    "In the cell below, I loaded in my dataset, which includes the relevant information for the five tickers that I mentioned in my objective statement over a 20 year period from December of 2004 to December of 2024. I then created a dataframe that shows the daily returns of each stock as a percentage, for every day of trading in this large timeframe."
   ]
  },
  {
   "cell_type": "code",
   "execution_count": 206,
   "metadata": {},
   "outputs": [
    {
     "name": "stderr",
     "output_type": "stream",
     "text": [
      "[*********************100%***********************]  5 of 5 completed"
     ]
    },
    {
     "name": "stdout",
     "output_type": "stream",
     "text": [
      "Twenty Year Daily Returns:\n"
     ]
    },
    {
     "name": "stderr",
     "output_type": "stream",
     "text": [
      "\n"
     ]
    },
    {
     "data": {
      "text/html": [
       "<div>\n",
       "<style scoped>\n",
       "    .dataframe tbody tr th:only-of-type {\n",
       "        vertical-align: middle;\n",
       "    }\n",
       "\n",
       "    .dataframe tbody tr th {\n",
       "        vertical-align: top;\n",
       "    }\n",
       "\n",
       "    .dataframe thead th {\n",
       "        text-align: right;\n",
       "    }\n",
       "</style>\n",
       "<table border=\"1\" class=\"dataframe\">\n",
       "  <thead>\n",
       "    <tr style=\"text-align: right;\">\n",
       "      <th>Ticker</th>\n",
       "      <th>AAPL</th>\n",
       "      <th>JNJ</th>\n",
       "      <th>JPM</th>\n",
       "      <th>PG</th>\n",
       "      <th>XOM</th>\n",
       "    </tr>\n",
       "    <tr>\n",
       "      <th>Date</th>\n",
       "      <th></th>\n",
       "      <th></th>\n",
       "      <th></th>\n",
       "      <th></th>\n",
       "      <th></th>\n",
       "    </tr>\n",
       "  </thead>\n",
       "  <tbody>\n",
       "    <tr>\n",
       "      <th>2004-12-02</th>\n",
       "      <td>-0.038059</td>\n",
       "      <td>0.009152</td>\n",
       "      <td>0.004179</td>\n",
       "      <td>0.021221</td>\n",
       "      <td>-0.019160</td>\n",
       "    </tr>\n",
       "    <tr>\n",
       "      <th>2004-12-03</th>\n",
       "      <td>-0.038797</td>\n",
       "      <td>0.002591</td>\n",
       "      <td>-0.009885</td>\n",
       "      <td>-0.007703</td>\n",
       "      <td>0.001993</td>\n",
       "    </tr>\n",
       "    <tr>\n",
       "      <th>2004-12-06</th>\n",
       "      <td>0.049457</td>\n",
       "      <td>-0.001293</td>\n",
       "      <td>0.001576</td>\n",
       "      <td>-0.019678</td>\n",
       "      <td>-0.002586</td>\n",
       "    </tr>\n",
       "    <tr>\n",
       "      <th>2004-12-07</th>\n",
       "      <td>-0.043934</td>\n",
       "      <td>-0.022966</td>\n",
       "      <td>-0.008132</td>\n",
       "      <td>-0.004788</td>\n",
       "      <td>-0.008775</td>\n",
       "    </tr>\n",
       "    <tr>\n",
       "      <th>2004-12-08</th>\n",
       "      <td>0.006201</td>\n",
       "      <td>0.012250</td>\n",
       "      <td>-0.006877</td>\n",
       "      <td>0.018320</td>\n",
       "      <td>0.006439</td>\n",
       "    </tr>\n",
       "    <tr>\n",
       "      <th>...</th>\n",
       "      <td>...</td>\n",
       "      <td>...</td>\n",
       "      <td>...</td>\n",
       "      <td>...</td>\n",
       "      <td>...</td>\n",
       "    </tr>\n",
       "    <tr>\n",
       "      <th>2024-11-22</th>\n",
       "      <td>0.005908</td>\n",
       "      <td>-0.002122</td>\n",
       "      <td>0.015485</td>\n",
       "      <td>0.020434</td>\n",
       "      <td>-0.001148</td>\n",
       "    </tr>\n",
       "    <tr>\n",
       "      <th>2024-11-25</th>\n",
       "      <td>0.013051</td>\n",
       "      <td>0.003931</td>\n",
       "      <td>0.007001</td>\n",
       "      <td>0.006297</td>\n",
       "      <td>-0.014944</td>\n",
       "    </tr>\n",
       "    <tr>\n",
       "      <th>2024-11-26</th>\n",
       "      <td>0.009404</td>\n",
       "      <td>-0.000129</td>\n",
       "      <td>-0.001278</td>\n",
       "      <td>0.010824</td>\n",
       "      <td>-0.016671</td>\n",
       "    </tr>\n",
       "    <tr>\n",
       "      <th>2024-11-27</th>\n",
       "      <td>-0.000553</td>\n",
       "      <td>0.005695</td>\n",
       "      <td>-0.000720</td>\n",
       "      <td>0.000279</td>\n",
       "      <td>-0.002628</td>\n",
       "    </tr>\n",
       "    <tr>\n",
       "      <th>2024-11-29</th>\n",
       "      <td>0.010216</td>\n",
       "      <td>-0.002510</td>\n",
       "      <td>-0.000280</td>\n",
       "      <td>-0.000558</td>\n",
       "      <td>0.002550</td>\n",
       "    </tr>\n",
       "  </tbody>\n",
       "</table>\n",
       "<p>5033 rows × 5 columns</p>\n",
       "</div>"
      ],
      "text/plain": [
       "Ticker          AAPL       JNJ       JPM        PG       XOM\n",
       "Date                                                        \n",
       "2004-12-02 -0.038059  0.009152  0.004179  0.021221 -0.019160\n",
       "2004-12-03 -0.038797  0.002591 -0.009885 -0.007703  0.001993\n",
       "2004-12-06  0.049457 -0.001293  0.001576 -0.019678 -0.002586\n",
       "2004-12-07 -0.043934 -0.022966 -0.008132 -0.004788 -0.008775\n",
       "2004-12-08  0.006201  0.012250 -0.006877  0.018320  0.006439\n",
       "...              ...       ...       ...       ...       ...\n",
       "2024-11-22  0.005908 -0.002122  0.015485  0.020434 -0.001148\n",
       "2024-11-25  0.013051  0.003931  0.007001  0.006297 -0.014944\n",
       "2024-11-26  0.009404 -0.000129 -0.001278  0.010824 -0.016671\n",
       "2024-11-27 -0.000553  0.005695 -0.000720  0.000279 -0.002628\n",
       "2024-11-29  0.010216 -0.002510 -0.000280 -0.000558  0.002550\n",
       "\n",
       "[5033 rows x 5 columns]"
      ]
     },
     "execution_count": 206,
     "metadata": {},
     "output_type": "execute_result"
    }
   ],
   "source": [
    "import yfinance as yf\n",
    "import pandas as pd\n",
    "\n",
    "pd.set_option('display.max_rows', 50)\n",
    "\n",
    "tickers = ['AAPL', 'JNJ', 'XOM', 'PG', 'JPM']\n",
    "start_date = '2004-12-01'\n",
    "end_date = '2024-12-01'\n",
    "\n",
    "data = yf.download(tickers, start=start_date, end=end_date)['Adj Close']\n",
    "\n",
    "twenty_year_daily_returns = data.pct_change().dropna()\n",
    "\n",
    "print(\"Twenty Year Daily Returns:\")\n",
    "twenty_year_daily_returns"
   ]
  },
  {
   "cell_type": "markdown",
   "metadata": {},
   "source": [
    "## Data Cleaning/Portfolio Optimization"
   ]
  },
  {
   "cell_type": "markdown",
   "metadata": {},
   "source": [
    "Here I calculated the average expected daily returns, the covariance matrix (measures how assets move relative to each other), and the volatility (standard deviation of returns) for each asset over the 20 year period."
   ]
  },
  {
   "cell_type": "code",
   "execution_count": 207,
   "metadata": {},
   "outputs": [
    {
     "name": "stdout",
     "output_type": "stream",
     "text": [
      "<class 'pandas.core.frame.DataFrame'>\n",
      "<class 'pandas.core.frame.DataFrame'>\n"
     ]
    }
   ],
   "source": [
    "print(type(returns))\n",
    "returns = pd.DataFrame(returns)\n",
    "covariance_matrix = returns.cov()\n",
    "print(type(returns))"
   ]
  },
  {
   "cell_type": "code",
   "execution_count": 211,
   "metadata": {},
   "outputs": [
    {
     "data": {
      "text/plain": [
       "Adj Close_AAPL    0.001289\n",
       "Adj Close_JNJ     0.000356\n",
       "Adj Close_JPM     0.000740\n",
       "Adj Close_PG      0.000411\n",
       "Adj Close_XOM     0.000438\n",
       "dtype: float64"
      ]
     },
     "execution_count": 211,
     "metadata": {},
     "output_type": "execute_result"
    }
   ],
   "source": [
    "avg_expected_returns = returns.mean()\n",
    "avg_expected_returns"
   ]
  },
  {
   "cell_type": "code",
   "execution_count": 212,
   "metadata": {},
   "outputs": [
    {
     "data": {
      "text/html": [
       "<div>\n",
       "<style scoped>\n",
       "    .dataframe tbody tr th:only-of-type {\n",
       "        vertical-align: middle;\n",
       "    }\n",
       "\n",
       "    .dataframe tbody tr th {\n",
       "        vertical-align: top;\n",
       "    }\n",
       "\n",
       "    .dataframe thead th {\n",
       "        text-align: right;\n",
       "    }\n",
       "</style>\n",
       "<table border=\"1\" class=\"dataframe\">\n",
       "  <thead>\n",
       "    <tr style=\"text-align: right;\">\n",
       "      <th></th>\n",
       "      <th>Adj Close_AAPL</th>\n",
       "      <th>Adj Close_JNJ</th>\n",
       "      <th>Adj Close_JPM</th>\n",
       "      <th>Adj Close_PG</th>\n",
       "      <th>Adj Close_XOM</th>\n",
       "    </tr>\n",
       "  </thead>\n",
       "  <tbody>\n",
       "    <tr>\n",
       "      <th>Adj Close_AAPL</th>\n",
       "      <td>0.000412</td>\n",
       "      <td>0.000070</td>\n",
       "      <td>0.000185</td>\n",
       "      <td>0.000076</td>\n",
       "      <td>0.000116</td>\n",
       "    </tr>\n",
       "    <tr>\n",
       "      <th>Adj Close_JNJ</th>\n",
       "      <td>0.000070</td>\n",
       "      <td>0.000116</td>\n",
       "      <td>0.000096</td>\n",
       "      <td>0.000069</td>\n",
       "      <td>0.000077</td>\n",
       "    </tr>\n",
       "    <tr>\n",
       "      <th>Adj Close_JPM</th>\n",
       "      <td>0.000185</td>\n",
       "      <td>0.000096</td>\n",
       "      <td>0.000525</td>\n",
       "      <td>0.000101</td>\n",
       "      <td>0.000184</td>\n",
       "    </tr>\n",
       "    <tr>\n",
       "      <th>Adj Close_PG</th>\n",
       "      <td>0.000076</td>\n",
       "      <td>0.000069</td>\n",
       "      <td>0.000101</td>\n",
       "      <td>0.000129</td>\n",
       "      <td>0.000074</td>\n",
       "    </tr>\n",
       "    <tr>\n",
       "      <th>Adj Close_XOM</th>\n",
       "      <td>0.000116</td>\n",
       "      <td>0.000077</td>\n",
       "      <td>0.000184</td>\n",
       "      <td>0.000074</td>\n",
       "      <td>0.000281</td>\n",
       "    </tr>\n",
       "  </tbody>\n",
       "</table>\n",
       "</div>"
      ],
      "text/plain": [
       "                Adj Close_AAPL  Adj Close_JNJ  Adj Close_JPM  Adj Close_PG  \\\n",
       "Adj Close_AAPL        0.000412       0.000070       0.000185      0.000076   \n",
       "Adj Close_JNJ         0.000070       0.000116       0.000096      0.000069   \n",
       "Adj Close_JPM         0.000185       0.000096       0.000525      0.000101   \n",
       "Adj Close_PG          0.000076       0.000069       0.000101      0.000129   \n",
       "Adj Close_XOM         0.000116       0.000077       0.000184      0.000074   \n",
       "\n",
       "                Adj Close_XOM  \n",
       "Adj Close_AAPL       0.000116  \n",
       "Adj Close_JNJ        0.000077  \n",
       "Adj Close_JPM        0.000184  \n",
       "Adj Close_PG         0.000074  \n",
       "Adj Close_XOM        0.000281  "
      ]
     },
     "execution_count": 212,
     "metadata": {},
     "output_type": "execute_result"
    }
   ],
   "source": [
    "covariance_matrix = returns.cov()\n",
    "covariance_matrix"
   ]
  },
  {
   "cell_type": "code",
   "execution_count": 214,
   "metadata": {},
   "outputs": [
    {
     "data": {
      "text/plain": [
       "Adj Close_AAPL    0.020290\n",
       "Adj Close_JNJ     0.010772\n",
       "Adj Close_JPM     0.022909\n",
       "Adj Close_PG      0.011370\n",
       "Adj Close_XOM     0.016756\n",
       "dtype: float64"
      ]
     },
     "execution_count": 214,
     "metadata": {},
     "output_type": "execute_result"
    }
   ],
   "source": [
    "volatility = returns.std()\n",
    "volatility"
   ]
  },
  {
   "cell_type": "markdown",
   "metadata": {},
   "source": [
    "Reshape the data to a monthly frequency rather than daily, so we can then compute our annual return easier."
   ]
  },
  {
   "cell_type": "code",
   "execution_count": 215,
   "metadata": {},
   "outputs": [
    {
     "name": "stdout",
     "output_type": "stream",
     "text": [
      "Expected Monthly Returns:\n",
      "Ticker\n",
      "AAPL    0.027385\n",
      "JNJ     0.007032\n",
      "JPM     0.013161\n",
      "PG      0.008281\n",
      "XOM     0.008459\n",
      "dtype: float64\n"
     ]
    }
   ],
   "source": [
    "monthly_prices = data.resample('ME').last()\n",
    "monthly_returns = monthly_prices.pct_change().dropna()\n",
    "\n",
    "expected_monthly_return = monthly_returns.mean()\n",
    "\n",
    "print(\"Expected Monthly Returns:\")\n",
    "print(expected_monthly_return)"
   ]
  },
  {
   "cell_type": "markdown",
   "metadata": {},
   "source": [
    "Expected annual return of each of the five assets, calculated by multiplying our expected monthly return by 12."
   ]
  },
  {
   "cell_type": "code",
   "execution_count": 216,
   "metadata": {},
   "outputs": [
    {
     "name": "stdout",
     "output_type": "stream",
     "text": [
      "Expected Annual Returns (from Monthly Data):\n",
      "Ticker\n",
      "AAPL    0.328619\n",
      "JNJ     0.084379\n",
      "JPM     0.157927\n",
      "PG      0.099376\n",
      "XOM     0.101513\n",
      "dtype: float64\n"
     ]
    }
   ],
   "source": [
    "expected_annual_return = expected_monthly_return * 12\n",
    "\n",
    "print(\"Expected Annual Returns (from Monthly Data):\")\n",
    "print(expected_annual_return)"
   ]
  },
  {
   "cell_type": "markdown",
   "metadata": {},
   "source": [
    "For a more precise prediction, we can use calculate our geometric annual return, which accounts for compounding, by using the formula:\n",
    "\n",
    "$\\text{Geometric Annual Return} = ((1 + \\text{Monthly Return})^{12}) - 1$"
   ]
  },
  {
   "cell_type": "code",
   "execution_count": 217,
   "metadata": {},
   "outputs": [
    {
     "name": "stdout",
     "output_type": "stream",
     "text": [
      "Geometric Annual Returns:\n",
      "Ticker\n",
      "AAPL    0.382923\n",
      "JNJ     0.087720\n",
      "JPM     0.169875\n",
      "PG      0.104030\n",
      "XOM     0.106372\n",
      "dtype: float64\n"
     ]
    }
   ],
   "source": [
    "geometric_annual_return = (1 + expected_monthly_return) ** 12 - 1\n",
    "\n",
    "print(\"Geometric Annual Returns:\")\n",
    "print(geometric_annual_return)"
   ]
  },
  {
   "cell_type": "markdown",
   "metadata": {},
   "source": [
    "### Data Cleaning/Data Modeling"
   ]
  },
  {
   "cell_type": "markdown",
   "metadata": {},
   "source": [
    "In the following cell I initialized the portfolio weights equally across all five assets. In this case, each asset started with a weight of $1/5 = 0.2$, the initial guess for the optimization process. The portfolio variance function defines what we want to minimize during the optimization process, which is volatility. The constraints and bounds here ensure that all weights add up to 1 and prevent our model from assigning negative weights or weights greater than a total of 1. The optimizer in use here is a SLSQP, which stands for Sequential Least Squares Programming. This optimization technique makes the most sense in this application because we are trying to minimize one part of a function while respecting constraints and bounds."
   ]
  },
  {
   "cell_type": "code",
   "execution_count": 222,
   "metadata": {},
   "outputs": [
    {
     "name": "stderr",
     "output_type": "stream",
     "text": [
      "[*********************100%***********************]  5 of 5 completed"
     ]
    },
    {
     "name": "stdout",
     "output_type": "stream",
     "text": [
      "Flattened Columns:\n",
      "Index(['Adj Close_AAPL', 'Adj Close_JNJ', 'Adj Close_JPM', 'Adj Close_PG',\n",
      "       'Adj Close_XOM', 'Close_AAPL', 'Close_JNJ', 'Close_JPM', 'Close_PG',\n",
      "       'Close_XOM', 'High_AAPL', 'High_JNJ', 'High_JPM', 'High_PG', 'High_XOM',\n",
      "       'Low_AAPL', 'Low_JNJ', 'Low_JPM', 'Low_PG', 'Low_XOM', 'Open_AAPL',\n",
      "       'Open_JNJ', 'Open_JPM', 'Open_PG', 'Open_XOM', 'Volume_AAPL',\n",
      "       'Volume_JNJ', 'Volume_JPM', 'Volume_PG', 'Volume_XOM'],\n",
      "      dtype='object')\n",
      "Covariance Matrix:\n",
      "                Adj Close_AAPL  Adj Close_JNJ  Adj Close_JPM  Adj Close_PG  \\\n",
      "Adj Close_AAPL        0.000412       0.000070       0.000185      0.000076   \n",
      "Adj Close_JNJ         0.000070       0.000116       0.000096      0.000069   \n",
      "Adj Close_JPM         0.000185       0.000096       0.000525      0.000101   \n",
      "Adj Close_PG          0.000076       0.000069       0.000101      0.000129   \n",
      "Adj Close_XOM         0.000116       0.000077       0.000184      0.000074   \n",
      "\n",
      "                Adj Close_XOM  \n",
      "Adj Close_AAPL       0.000116  \n",
      "Adj Close_JNJ        0.000077  \n",
      "Adj Close_JPM        0.000184  \n",
      "Adj Close_PG         0.000074  \n",
      "Adj Close_XOM        0.000281  \n",
      "Optimized Weights:\n",
      "[0.2 0.2 0.2 0.2 0.2]\n"
     ]
    },
    {
     "name": "stderr",
     "output_type": "stream",
     "text": [
      "\n"
     ]
    }
   ],
   "source": [
    "import yfinance as yf\n",
    "import pandas as pd\n",
    "import numpy as np\n",
    "from scipy.optimize import minimize\n",
    "\n",
    "pd.set_option('display.max_rows', 50)\n",
    "\n",
    "tickers = ['AAPL', 'JNJ', 'XOM', 'PG', 'JPM']\n",
    "start_date = '2004-12-01'\n",
    "end_date = '2024-12-01'\n",
    "\n",
    "data = yf.download(tickers, start=start_date, end=end_date)\n",
    "\n",
    "data.columns = ['_'.join(col).strip() for col in data.columns]\n",
    "\n",
    "print(\"Flattened Columns:\")\n",
    "print(data.columns)\n",
    "\n",
    "returns = data.filter(like='Adj Close').pct_change().dropna()\n",
    "\n",
    "covariance_matrix = returns.cov()\n",
    "print(\"Covariance Matrix:\")\n",
    "print(covariance_matrix)\n",
    "\n",
    "num_assets = len(covariance_matrix)\n",
    "\n",
    "initial_weights = np.ones(num_assets) / num_assets\n",
    "\n",
    "def portfolio_variance(weights):\n",
    "    weights = np.array(weights)\n",
    "    return np.dot(weights.T, np.dot(covariance_matrix, weights))\n",
    "\n",
    "constraints = ({'type': 'eq', 'fun': lambda w: np.sum(w) - 1})\n",
    "\n",
    "bounds = tuple((0, 1) for _ in range(num_assets))\n",
    "\n",
    "optimized = minimize(portfolio_variance, initial_weights, method='SLSQP', bounds=bounds, constraints=constraints)\n",
    "\n",
    "optimized_weights = optimized.x\n",
    "print(\"Optimized Weights:\")\n",
    "print(optimized_weights)"
   ]
  },
  {
   "cell_type": "markdown",
   "metadata": {},
   "source": [
    "After optimizing our portfolio it seems that the covariance of our tickers are so low that the optimized weights of each one remains equal. This is a good sign because low covariance between assets in a portfolio is desireable as it means that each assets price movements are less correlated, in other words, it can help mitigate portfolio risk by balancing out potential losses from one stock with gains from another when they move in opposite directions."
   ]
  },
  {
   "cell_type": "markdown",
   "metadata": {},
   "source": [
    "### Data Visualization"
   ]
  },
  {
   "cell_type": "markdown",
   "metadata": {},
   "source": [
    "Below I have an Efficient Frontier as a visual. This Efficient Frontier is created by a set of equations that simulates 5000 random portfolios, and for each portfolio it generates random weights for assets and calculates the portfolio's return, volatility, and Sharpe Ratio. The Sharpe Ratio is a ratio that is used to compare risk and reward and provides insights into the efficiency of assets. \n",
    "\n",
    "In this code I have also plotted the Efficient Frontier to make it extremely easy to visualize the level of return, reward, and the respective Sharpe Ratio for any investment portfolio. This simulation of 5000 random portfolios serves as a great reference for anyone that is interested in constructing an optimized investment portfolio and is looking for a healthy balance of risk to return. If an investor has a higher risk tolerance, this visualization will help them make an informed decision and will almost act as a warning for what they are getting themselves into when purchasing a risky asset, as they will be able to determine exactly how risky it is."
   ]
  },
  {
   "cell_type": "code",
   "execution_count": 223,
   "metadata": {},
   "outputs": [
    {
     "data": {
      "image/png": "[encoded data removed]",
      "text/plain": [
       "<Figure size 640x480 with 2 Axes>"
      ]
     },
     "metadata": {},
     "output_type": "display_data"
    }
   ],
   "source": [
    "import matplotlib.pyplot as plt\n",
    "\n",
    "num_portfolios = 5000\n",
    "results = np.zeros((3, num_portfolios))\n",
    "for i in range(num_portfolios):\n",
    "    weights = np.random.random(num_assets)\n",
    "    weights /= np.sum(weights)\n",
    "    portfolio_return = np.sum(weights * expected_returns)\n",
    "    portfolio_volatility = np.sqrt(np.dot(weights.T, np.dot(covariance_matrix, weights)))\n",
    "    results[0, i] = portfolio_return\n",
    "    results[1, i] = portfolio_volatility\n",
    "    results[2, i] = portfolio_return / portfolio_volatility\n",
    "\n",
    "plt.scatter(results[1, :], results[0, :], c=results[2, :], cmap='viridis', marker='o')\n",
    "plt.colorbar(label='Sharpe Ratio')\n",
    "plt.xlabel('Portfolio Volatility (Risk)')\n",
    "plt.ylabel('Portfolio Return')\n",
    "plt.title('Efficient Frontier')\n",
    "plt.show()"
   ]
  },
  {
   "cell_type": "markdown",
   "metadata": {},
   "source": [
    "Fun Fact: 2004 was the first year that Apple's stock broke $1 per share as a public company!"
   ]
  }
 ],
 "metadata": {
  "kernelspec": {
   "display_name": "4188 Project",
   "language": "python",
   "name": "4188project"
  },
  "language_info": {
   "codemirror_mode": {
    "name": "ipython",
    "version": 3
   },
   "file_extension": ".py",
   "mimetype": "text/x-python",
   "name": "python",
   "nbconvert_exporter": "python",
   "pygments_lexer": "ipython3",
   "version": "3.12.4"
  }
 },
 "nbformat": 4,
 "nbformat_minor": 2
}
