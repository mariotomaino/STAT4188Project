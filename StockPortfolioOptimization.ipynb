{
 "cells": [
  {
   "cell_type": "code",
   "execution_count": 1,
   "metadata": {},
   "outputs": [
    {
     "name": "stdout",
     "output_type": "stream",
     "text": [
      "Requirement already satisfied: yfinance in c:\\users\\mario\\code\\miniconda3\\envs\\4188project\\lib\\site-packages (0.2.50)\n",
      "Requirement already satisfied: numpy in c:\\users\\mario\\code\\miniconda3\\envs\\4188project\\lib\\site-packages (1.26.4)\n",
      "Requirement already satisfied: pandas in c:\\users\\mario\\code\\miniconda3\\envs\\4188project\\lib\\site-packages (2.2.3)\n",
      "Requirement already satisfied: matplotlib in c:\\users\\mario\\code\\miniconda3\\envs\\4188project\\lib\\site-packages (3.9.2)\n",
      "Requirement already satisfied: scikit-learn in c:\\users\\mario\\code\\miniconda3\\envs\\4188project\\lib\\site-packages (1.5.1)\n",
      "Requirement already satisfied: scipy in c:\\users\\mario\\code\\miniconda3\\envs\\4188project\\lib\\site-packages (1.14.1)\n",
      "Requirement already satisfied: seaborn in c:\\users\\mario\\code\\miniconda3\\envs\\4188project\\lib\\site-packages (0.13.2)\n",
      "Requirement already satisfied: boto3 in c:\\users\\mario\\code\\miniconda3\\envs\\4188project\\lib\\site-packages (1.35.81)\n",
      "Requirement already satisfied: openai in c:\\users\\mario\\code\\miniconda3\\envs\\4188project\\lib\\site-packages (1.57.4)\n",
      "Requirement already satisfied: requests>=2.31 in c:\\users\\mario\\code\\miniconda3\\envs\\4188project\\lib\\site-packages (from yfinance) (2.32.3)\n",
      "Requirement already satisfied: multitasking>=0.0.7 in c:\\users\\mario\\code\\miniconda3\\envs\\4188project\\lib\\site-packages (from yfinance) (0.0.11)\n",
      "Requirement already satisfied: lxml>=4.9.1 in c:\\users\\mario\\code\\miniconda3\\envs\\4188project\\lib\\site-packages (from yfinance) (5.3.0)\n",
      "Requirement already satisfied: platformdirs>=2.0.0 in c:\\users\\mario\\code\\miniconda3\\envs\\4188project\\lib\\site-packages (from yfinance) (3.10.0)\n",
      "Requirement already satisfied: pytz>=2022.5 in c:\\users\\mario\\code\\miniconda3\\envs\\4188project\\lib\\site-packages (from yfinance) (2024.1)\n",
      "Requirement already satisfied: frozendict>=2.3.4 in c:\\users\\mario\\code\\miniconda3\\envs\\4188project\\lib\\site-packages (from yfinance) (2.4.6)\n",
      "Requirement already satisfied: peewee>=3.16.2 in c:\\users\\mario\\code\\miniconda3\\envs\\4188project\\lib\\site-packages (from yfinance) (3.17.8)\n",
      "Requirement already satisfied: beautifulsoup4>=4.11.1 in c:\\users\\mario\\code\\miniconda3\\envs\\4188project\\lib\\site-packages (from yfinance) (4.12.3)\n",
      "Requirement already satisfied: html5lib>=1.1 in c:\\users\\mario\\code\\miniconda3\\envs\\4188project\\lib\\site-packages (from yfinance) (1.1)\n",
      "Requirement already satisfied: python-dateutil>=2.8.2 in c:\\users\\mario\\code\\miniconda3\\envs\\4188project\\lib\\site-packages (from pandas) (2.9.0.post0)\n",
      "Requirement already satisfied: tzdata>=2022.7 in c:\\users\\mario\\code\\miniconda3\\envs\\4188project\\lib\\site-packages (from pandas) (2023.3)\n",
      "Requirement already satisfied: contourpy>=1.0.1 in c:\\users\\mario\\code\\miniconda3\\envs\\4188project\\lib\\site-packages (from matplotlib) (1.3.1)\n",
      "Requirement already satisfied: cycler>=0.10 in c:\\users\\mario\\code\\miniconda3\\envs\\4188project\\lib\\site-packages (from matplotlib) (0.11.0)\n",
      "Requirement already satisfied: fonttools>=4.22.0 in c:\\users\\mario\\code\\miniconda3\\envs\\4188project\\lib\\site-packages (from matplotlib) (4.51.0)\n",
      "Requirement already satisfied: kiwisolver>=1.3.1 in c:\\users\\mario\\code\\miniconda3\\envs\\4188project\\lib\\site-packages (from matplotlib) (1.4.4)\n",
      "Requirement already satisfied: packaging>=20.0 in c:\\users\\mario\\code\\miniconda3\\envs\\4188project\\lib\\site-packages (from matplotlib) (24.1)\n",
      "Requirement already satisfied: pillow>=8 in c:\\users\\mario\\code\\miniconda3\\envs\\4188project\\lib\\site-packages (from matplotlib) (11.0.0)\n",
      "Requirement already satisfied: pyparsing>=2.3.1 in c:\\users\\mario\\code\\miniconda3\\envs\\4188project\\lib\\site-packages (from matplotlib) (3.2.0)\n",
      "Requirement already satisfied: joblib>=1.2.0 in c:\\users\\mario\\code\\miniconda3\\envs\\4188project\\lib\\site-packages (from scikit-learn) (1.4.2)\n",
      "Requirement already satisfied: threadpoolctl>=3.1.0 in c:\\users\\mario\\code\\miniconda3\\envs\\4188project\\lib\\site-packages (from scikit-learn) (3.5.0)\n",
      "Requirement already satisfied: botocore<1.36.0,>=1.35.81 in c:\\users\\mario\\code\\miniconda3\\envs\\4188project\\lib\\site-packages (from boto3) (1.35.81)\n",
      "Requirement already satisfied: jmespath<2.0.0,>=0.7.1 in c:\\users\\mario\\code\\miniconda3\\envs\\4188project\\lib\\site-packages (from boto3) (1.0.1)\n",
      "Requirement already satisfied: s3transfer<0.11.0,>=0.10.0 in c:\\users\\mario\\code\\miniconda3\\envs\\4188project\\lib\\site-packages (from boto3) (0.10.4)\n",
      "Requirement already satisfied: anyio<5,>=3.5.0 in c:\\users\\mario\\code\\miniconda3\\envs\\4188project\\lib\\site-packages (from openai) (4.6.2)\n",
      "Requirement already satisfied: distro<2,>=1.7.0 in c:\\users\\mario\\code\\miniconda3\\envs\\4188project\\lib\\site-packages (from openai) (1.9.0)\n",
      "Requirement already satisfied: httpx<1,>=0.23.0 in c:\\users\\mario\\code\\miniconda3\\envs\\4188project\\lib\\site-packages (from openai) (0.27.0)\n",
      "Requirement already satisfied: jiter<1,>=0.4.0 in c:\\users\\mario\\code\\miniconda3\\envs\\4188project\\lib\\site-packages (from openai) (0.8.2)\n",
      "Requirement already satisfied: pydantic<3,>=1.9.0 in c:\\users\\mario\\code\\miniconda3\\envs\\4188project\\lib\\site-packages (from openai) (2.10.3)\n",
      "Requirement already satisfied: sniffio in c:\\users\\mario\\code\\miniconda3\\envs\\4188project\\lib\\site-packages (from openai) (1.3.0)\n",
      "Requirement already satisfied: tqdm>4 in c:\\users\\mario\\code\\miniconda3\\envs\\4188project\\lib\\site-packages (from openai) (4.67.1)\n",
      "Requirement already satisfied: typing-extensions<5,>=4.11 in c:\\users\\mario\\code\\miniconda3\\envs\\4188project\\lib\\site-packages (from openai) (4.12.2)\n",
      "Requirement already satisfied: idna>=2.8 in c:\\users\\mario\\code\\miniconda3\\envs\\4188project\\lib\\site-packages (from anyio<5,>=3.5.0->openai) (3.7)\n",
      "Requirement already satisfied: soupsieve>1.2 in c:\\users\\mario\\code\\miniconda3\\envs\\4188project\\lib\\site-packages (from beautifulsoup4>=4.11.1->yfinance) (2.5)\n",
      "Requirement already satisfied: urllib3!=2.2.0,<3,>=1.25.4 in c:\\users\\mario\\code\\miniconda3\\envs\\4188project\\lib\\site-packages (from botocore<1.36.0,>=1.35.81->boto3) (2.2.3)\n",
      "Requirement already satisfied: six>=1.9 in c:\\users\\mario\\code\\miniconda3\\envs\\4188project\\lib\\site-packages (from html5lib>=1.1->yfinance) (1.16.0)\n",
      "Requirement already satisfied: webencodings in c:\\users\\mario\\code\\miniconda3\\envs\\4188project\\lib\\site-packages (from html5lib>=1.1->yfinance) (0.5.1)\n",
      "Requirement already satisfied: certifi in c:\\users\\mario\\code\\miniconda3\\envs\\4188project\\lib\\site-packages (from httpx<1,>=0.23.0->openai) (2024.8.30)\n",
      "Requirement already satisfied: httpcore==1.* in c:\\users\\mario\\code\\miniconda3\\envs\\4188project\\lib\\site-packages (from httpx<1,>=0.23.0->openai) (1.0.2)\n",
      "Requirement already satisfied: h11<0.15,>=0.13 in c:\\users\\mario\\code\\miniconda3\\envs\\4188project\\lib\\site-packages (from httpcore==1.*->httpx<1,>=0.23.0->openai) (0.14.0)\n",
      "Requirement already satisfied: annotated-types>=0.6.0 in c:\\users\\mario\\code\\miniconda3\\envs\\4188project\\lib\\site-packages (from pydantic<3,>=1.9.0->openai) (0.7.0)\n",
      "Requirement already satisfied: pydantic-core==2.27.1 in c:\\users\\mario\\code\\miniconda3\\envs\\4188project\\lib\\site-packages (from pydantic<3,>=1.9.0->openai) (2.27.1)\n",
      "Requirement already satisfied: charset-normalizer<4,>=2 in c:\\users\\mario\\code\\miniconda3\\envs\\4188project\\lib\\site-packages (from requests>=2.31->yfinance) (3.3.2)\n",
      "Requirement already satisfied: colorama in c:\\users\\mario\\code\\miniconda3\\envs\\4188project\\lib\\site-packages (from tqdm>4->openai) (0.4.6)\n",
      "Note: you may need to restart the kernel to use updated packages.\n"
     ]
    }
   ],
   "source": [
    "pip install yfinance numpy pandas matplotlib scikit-learn scipy seaborn boto3 openai"
   ]
  },
  {
   "cell_type": "code",
   "execution_count": null,
   "metadata": {},
   "outputs": [],
   "source": []
  }
 ],
 "metadata": {
  "kernelspec": {
   "display_name": "4188 Project",
   "language": "python",
   "name": "4188project"
  },
  "language_info": {
   "codemirror_mode": {
    "name": "ipython",
    "version": 3
   },
   "file_extension": ".py",
   "mimetype": "text/x-python",
   "name": "python",
   "nbconvert_exporter": "python",
   "pygments_lexer": "ipython3",
   "version": "3.12.4"
  }
 },
 "nbformat": 4,
 "nbformat_minor": 2
}
